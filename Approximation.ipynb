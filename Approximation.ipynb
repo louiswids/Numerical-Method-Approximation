{
 "cells": [
  {
   "cell_type": "markdown",
   "id": "4d81c008-1f94-4750-a399-ab1473bd26f4",
   "metadata": {},
   "source": [
    "# Numerical Methods Final Project\n",
    "## Multi-Feature Prediction with Gradient Descent on Regression\n",
    "Name: Louis Widi Anandaputra\n",
    "\n",
    "No: 22/492218/PA/21090\n",
    "\n",
    "Data Source: https://www.kaggle.com/datasets/nikhil7280/student-performance-multiple-linear-regression"
   ]
  },
  {
   "cell_type": "code",
   "execution_count": 1,
   "id": "9694ba16-9487-432d-8baa-f349e079f96d",
   "metadata": {},
   "outputs": [
    {
     "data": {
      "text/html": [
       "<div>\n",
       "<style scoped>\n",
       "    .dataframe tbody tr th:only-of-type {\n",
       "        vertical-align: middle;\n",
       "    }\n",
       "\n",
       "    .dataframe tbody tr th {\n",
       "        vertical-align: top;\n",
       "    }\n",
       "\n",
       "    .dataframe thead th {\n",
       "        text-align: right;\n",
       "    }\n",
       "</style>\n",
       "<table border=\"1\" class=\"dataframe\">\n",
       "  <thead>\n",
       "    <tr style=\"text-align: right;\">\n",
       "      <th></th>\n",
       "      <th>Hours Studied</th>\n",
       "      <th>Previous Scores</th>\n",
       "      <th>Extracurricular Activities</th>\n",
       "      <th>Sleep Hours</th>\n",
       "      <th>Sample Question Papers Practiced</th>\n",
       "      <th>Performance Index</th>\n",
       "    </tr>\n",
       "  </thead>\n",
       "  <tbody>\n",
       "    <tr>\n",
       "      <th>0</th>\n",
       "      <td>7</td>\n",
       "      <td>99</td>\n",
       "      <td>Yes</td>\n",
       "      <td>9</td>\n",
       "      <td>1</td>\n",
       "      <td>91.0</td>\n",
       "    </tr>\n",
       "    <tr>\n",
       "      <th>1</th>\n",
       "      <td>4</td>\n",
       "      <td>82</td>\n",
       "      <td>No</td>\n",
       "      <td>4</td>\n",
       "      <td>2</td>\n",
       "      <td>65.0</td>\n",
       "    </tr>\n",
       "    <tr>\n",
       "      <th>2</th>\n",
       "      <td>8</td>\n",
       "      <td>51</td>\n",
       "      <td>Yes</td>\n",
       "      <td>7</td>\n",
       "      <td>2</td>\n",
       "      <td>45.0</td>\n",
       "    </tr>\n",
       "    <tr>\n",
       "      <th>3</th>\n",
       "      <td>5</td>\n",
       "      <td>52</td>\n",
       "      <td>Yes</td>\n",
       "      <td>5</td>\n",
       "      <td>2</td>\n",
       "      <td>36.0</td>\n",
       "    </tr>\n",
       "    <tr>\n",
       "      <th>4</th>\n",
       "      <td>7</td>\n",
       "      <td>75</td>\n",
       "      <td>No</td>\n",
       "      <td>8</td>\n",
       "      <td>5</td>\n",
       "      <td>66.0</td>\n",
       "    </tr>\n",
       "  </tbody>\n",
       "</table>\n",
       "</div>"
      ],
      "text/plain": [
       "   Hours Studied  Previous Scores Extracurricular Activities  Sleep Hours  \\\n",
       "0              7               99                        Yes            9   \n",
       "1              4               82                         No            4   \n",
       "2              8               51                        Yes            7   \n",
       "3              5               52                        Yes            5   \n",
       "4              7               75                         No            8   \n",
       "\n",
       "   Sample Question Papers Practiced  Performance Index  \n",
       "0                                 1               91.0  \n",
       "1                                 2               65.0  \n",
       "2                                 2               45.0  \n",
       "3                                 2               36.0  \n",
       "4                                 5               66.0  "
      ]
     },
     "execution_count": 1,
     "metadata": {},
     "output_type": "execute_result"
    }
   ],
   "source": [
    "import pandas as pd\n",
    "import numpy as np\n",
    "import matplotlib.pyplot as plt\n",
    "import seaborn as sns\n",
    "df=pd.read_csv('Student_Performance.csv')\n",
    "\n",
    "def train_test_split(X,y, test_size = 0.2, random_state = 42):\n",
    "    data = np.column_stack((X, y))\n",
    "    \n",
    "    # Shuffle the data\n",
    "    np.random.seed(random_state)  # For reproducibility\n",
    "    np.random.shuffle(data)\n",
    "    \n",
    "    # Determine the split index\n",
    "    train_size = int((1-test_size) * len(data))\n",
    "    \n",
    "    # Split the data into training and testing sets\n",
    "    train_data = data[:train_size]\n",
    "    test_data = data[train_size:]\n",
    "    \n",
    "    # Separate the features and target variable\n",
    "    X_train = train_data[:, :-1]\n",
    "    y_train = train_data[:, -1]\n",
    "    X_test = test_data[:, :-1]\n",
    "    y_test = test_data[:, -1]\n",
    "    \n",
    "    return X_train, y_train, X_test, y_test\n",
    "    \n",
    "def MSE(preds, y):\n",
    "    return np.mean((preds - y) ** 2)\n",
    "    \n",
    "def RMSE(preds, y):\n",
    "    return (MSE(preds, y )** 0.5)\n",
    "\n",
    "def lin_predict(x, weight, bias):\n",
    "    return np.dot(x,weight) + bias\n",
    "    \n",
    "def poly_predict(x, weight, order, bias):\n",
    "    x_safe_power = np.where(x == 0, np.finfo(float).eps, x)\n",
    "    x_powered = np.array(x_safe_power)**np.array(order)\n",
    "    return np.dot(x_powered,weight) + bias\n",
    "    \n",
    "def visualize(weights, costs, viz = False):\n",
    "    if viz == True:\n",
    "        plt.figure(figsize = (8,6))\n",
    "        plt.plot(weights, costs)\n",
    "        plt.scatter(weights, costs, marker='o', color='red')\n",
    "        plt.title(\"Cost vs Weights\")\n",
    "        plt.ylabel(\"Cost\")\n",
    "        plt.xlabel(\"Weight\")\n",
    "        plt.show()\n",
    "        \n",
    "def print_history(current_cost, current_weight, current_bias, print_hist = False):\n",
    "    if print_hist == True:\n",
    "        print(f\"Iteration {i+1}: Cost {current_cost}, Weight \\\n",
    "\t\t{current_weight}, Bias {current_bias}\")\n",
    "        \n",
    "def gradient_descent_linear(x,\n",
    "                            y, \n",
    "                            iterations = 1000, \n",
    "                            learning_rate = 0.0001, \n",
    "                            stopping_threshold = 1e-6, \n",
    "                            viz = False, \n",
    "                            print_hist = False):\n",
    "    \n",
    "    # Initializing weight, bias, learning rate and iterations\n",
    "\tcurrent_weight = [0.1] * len(x[0])\n",
    "\tcurrent_bias = 0.01\n",
    "\titerations = iterations\n",
    "\tlearning_rate = learning_rate\n",
    "\tn = float(len(x))\n",
    "\t\n",
    "\tcosts = []\n",
    "\tweights = []\n",
    "\tprevious_cost = None\n",
    "\t\n",
    "\t# Estimation of optimal parameters \n",
    "\tfor i in range(iterations):\n",
    "\t\t\n",
    "\t\t# Making predictions\n",
    "\t\ty_predicted = lin_predict(x, current_weight, current_bias)\n",
    "\t\t\n",
    "\t\t# Calculating the current cost\n",
    "\t\tcurrent_cost = MSE(y, y_predicted)\n",
    "\n",
    "\t\t# If the change in cost is less than or equal to \n",
    "\t\t# stopping_threshold we stop the gradient descent\n",
    "\t\tif previous_cost and abs(previous_cost-current_cost)<=stopping_threshold:\n",
    "\t\t\tbreak\n",
    "\t\t\n",
    "\t\tprevious_cost = current_cost\n",
    "\n",
    "\t\tcosts.append(current_cost)\n",
    "\t\tweights.append(current_weight)\n",
    "\t\t\n",
    "        # Calculating the gradients\n",
    "\t\tweight_derivative = np.dot(x.T, (y_predicted-y)) * ((2/n))\n",
    "\t\tbias_derivative = np.sum(y_predicted-y) * ((2/n))\n",
    "\t\t\n",
    "\t\t# Updating weights and bias\n",
    "\t\tcurrent_weight = np.array(current_weight) - np.array((learning_rate * weight_derivative))\n",
    "\t\tcurrent_bias = current_bias - (learning_rate * bias_derivative)\n",
    "\t\t\t\t\n",
    "\t\t# Printing the parameters for each 1000th iteration\n",
    "\t\tprint_history(current_cost, current_weight, current_bias, print_hist)\n",
    "\t\n",
    "\t\n",
    "\t# Visualizing the weights and cost at for all iterations\\\n",
    "\tvisualize(weights, costs, viz)\n",
    "\t\n",
    "\treturn current_weight, current_bias\n",
    "\n",
    "def gradient_descent_poly(x,\n",
    "                          y, \n",
    "                          iterations = 1000, \n",
    "                          learning_rate = 0.0001, \n",
    "                          stopping_threshold = 1e-6, \n",
    "                          viz = False, \n",
    "                          print_hist = False):\n",
    "    # Initialization\n",
    "    current_weight = np.array([0.1] * x.shape[1])\n",
    "    current_order = np.array([1.0] * x.shape[1])\n",
    "    current_bias = 0.01\n",
    "    n = float(len(x))\n",
    "    iterations = iterations\n",
    "    learning_rate = learning_rate\n",
    "\n",
    "    costs = []\n",
    "    weights = []\n",
    "    orders = []\n",
    "    biases = []\n",
    "    previous_cost = None\n",
    "    \n",
    "    for i in range(iterations):\n",
    "        y_predicted = poly_predict(x, current_weight, current_order, current_bias)\n",
    "\n",
    "        current_cost = MSE(y, y_predicted)\n",
    "\n",
    "        if previous_cost and abs(previous_cost - current_cost) <= stopping_threshold:\n",
    "            break\n",
    "\n",
    "        previous_cost = current_cost\n",
    "\n",
    "        costs.append(current_cost)\n",
    "        weights.append(current_weight)\n",
    "        orders.append(current_order)\n",
    "        biases.append(current_bias)\n",
    "\n",
    "        x_safe = np.where(x == 0, np.finfo(float).eps, x)\n",
    "        order_derivative = np.dot((np.log(x_safe) * ((x_safe**current_order))).T, (y_predicted - y)) * current_weight * (2/n)\n",
    "        weight_derrivative = np.dot(x.T, (y_predicted-y)) * ((2/n))\n",
    "        bias_derrivative = np.sum(y_predicted-y) * ((2/n))\n",
    "\n",
    "        current_order = np.array(current_order) - np.array((learning_rate * order_derivative))\n",
    "        current_weight = np.array(current_weight) - np.array((learning_rate * weight_derrivative))\n",
    "        current_bias = current_bias - (learning_rate * bias_derrivative)\n",
    "\n",
    "    return current_weight, current_order, current_bias\n",
    "df.head()"
   ]
  },
  {
   "cell_type": "code",
   "execution_count": 2,
   "id": "ae1a157c-01bb-40d8-b3da-7d21e09a389f",
   "metadata": {},
   "outputs": [
    {
     "name": "stdout",
     "output_type": "stream",
     "text": [
      "<class 'pandas.core.frame.DataFrame'>\n",
      "RangeIndex: 10000 entries, 0 to 9999\n",
      "Data columns (total 6 columns):\n",
      " #   Column                            Non-Null Count  Dtype  \n",
      "---  ------                            --------------  -----  \n",
      " 0   Hours Studied                     10000 non-null  int64  \n",
      " 1   Previous Scores                   10000 non-null  int64  \n",
      " 2   Extracurricular Activities        10000 non-null  object \n",
      " 3   Sleep Hours                       10000 non-null  int64  \n",
      " 4   Sample Question Papers Practiced  10000 non-null  int64  \n",
      " 5   Performance Index                 10000 non-null  float64\n",
      "dtypes: float64(1), int64(4), object(1)\n",
      "memory usage: 468.9+ KB\n"
     ]
    }
   ],
   "source": [
    "df.info()"
   ]
  },
  {
   "cell_type": "code",
   "execution_count": 3,
   "id": "eba29b7d-431c-4e89-a409-dd6c15fe6fc3",
   "metadata": {},
   "outputs": [
    {
     "name": "stderr",
     "output_type": "stream",
     "text": [
      "/var/folders/kp/1yj5j5nx6gddj5pqbjbnl45r0000gn/T/ipykernel_53609/145124838.py:3: FutureWarning: Downcasting behavior in `replace` is deprecated and will be removed in a future version. To retain the old behavior, explicitly call `result.infer_objects(copy=False)`. To opt-in to the future behavior, set `pd.set_option('future.no_silent_downcasting', True)`\n",
      "  df = df.replace({'Extracurricular Activities' : map})\n"
     ]
    },
    {
     "data": {
      "image/png": "[encoded data removed]",
      "text/plain": [
       "<Figure size 700x700 with 2 Axes>"
      ]
     },
     "metadata": {},
     "output_type": "display_data"
    }
   ],
   "source": [
    "df = pd.read_csv('Student_Performance.csv')\n",
    "map = {'Yes' : 1, 'No' : 0}\n",
    "df = df.replace({'Extracurricular Activities' : map})\n",
    "corr = df.corr()\n",
    "# visualization of correlation relationships\n",
    "plt.figure(figsize=(7, 7))\n",
    "sns.heatmap(corr, annot = True, fmt = '.2f')\n",
    "plt.tight_layout()\n",
    "plt.savefig('corr.png');"
   ]
  },
  {
   "cell_type": "markdown",
   "id": "4f738631-d123-41c9-af7a-3fd3f29e310c",
   "metadata": {},
   "source": [
    "#### Pearson Correlation\n",
    "$$r = \\frac {\\sum{(x_i-\\bar{x})(y_i-\\bar{y})}}{\\sqrt{\\sum{(x_i-\\bar{x})^2}\\sum(y_i-\\bar{y})^2}}$$\n",
    "The correlation using Pearson's Correlation showed that performance index is most affected by Hours Studied and Previous Scores. We would pick those two features in this work\n",
    "\n"
   ]
  },
  {
   "cell_type": "code",
   "execution_count": 4,
   "id": "ece284e6-16d0-462d-b438-66f5983097db",
   "metadata": {},
   "outputs": [],
   "source": [
    "df = pd.read_csv('Student_Performance.csv')\n",
    "X = df[['Hours Studied', 'Previous Scores']]\n",
    "y = df[['Performance Index']]\n",
    "X_train, y_train, X_test, y_test = train_test_split(X, y)"
   ]
  },
  {
   "cell_type": "markdown",
   "id": "394c5a99-e6ab-4507-a604-6c7a956f5d9b",
   "metadata": {},
   "source": [
    "\n",
    "## Linear Regression\n",
    "$$\\hat{y} = \\beta + \\theta_0 x_0 + \\theta_1 x_1 + \\cdots + \\theta_n x_n$$\n",
    "\n",
    "$$n\\::number\\:of\\:features$$\n",
    "\n",
    "$$x\\::value\\:of\\:the\\:specific\\:feature$$\n",
    "\n",
    "$$\\beta\\: bias$$\n",
    "\n",
    "$$\\theta\\::weight$$\n",
    "\n",
    "$$\\hat{y}\\::\\:predicted\\:value$$\n",
    "\n",
    "### Finding Rate of Change for Gradient Descent\n",
    "#### Rate of Change on Bias\n",
    "$$\\frac{\\partial E}{\\partial \\beta} = \\frac{2}{m} \\sum_{{i=1}}^{m}{(\\hat{y}_i-y_i)}$$\n",
    "#### Rate of Change on Weights\n",
    "$$\\begin{bmatrix} \\frac{\\partial{E}}{\\partial{\\theta_1}} \\\\ \n",
    "    \\frac{\\partial{E}}{\\partial{\\theta_2}} \\\\ \n",
    "    \\vdots \\\\\n",
    "    \\frac{\\partial{E}}{\\partial{\\theta_n}}  \n",
    "    \\end{bmatrix} = \n",
    "    \\frac{2}{m} \n",
    "    \\begin{bmatrix} \\sum_{{i=1}}^{m}{(\\hat{y}_i-y_i)(x_{1i})} \\\\ \n",
    "    \\sum_{{i=1}}^{m}{(\\hat{y}_i-y_i)(x_{2i})}  \\\\ \n",
    "    \\vdots \\\\\n",
    "    \\sum_{{i=1}}^{m}{(\\hat{y}_i-y_i)(x_{ni})}  \\end{bmatrix}$$\n",
    "\n",
    "### Updating the Values\n",
    "#### Updating the Bias\n",
    "$$\\beta' = \\beta - \\frac{\\partial E}{\\partial \\beta}\\alpha$$\n",
    "#### Updating the Weights\n",
    "$$\\begin{bmatrix} \\theta_1' \\\\ \n",
    "    \\theta_2' \\\\ \n",
    "    \\vdots \\\\\n",
    "    \\theta_n'\n",
    "    \\end{bmatrix} = \n",
    "    \\begin{bmatrix} \\theta_1 \\\\ \n",
    "    \\theta_2 \\\\ \n",
    "    \\vdots \\\\\n",
    "    \\theta_n\n",
    "    \\end{bmatrix} - \n",
    "    \\begin{bmatrix} \\frac{\\partial{E}}{\\partial{\\theta_1}} \\\\ \n",
    "    \\frac{\\partial{E}}{\\partial{\\theta_2}} \\\\ \n",
    "    \\vdots \\\\\n",
    "    \\frac{\\partial{E}}{\\partial{\\theta_n}}  \n",
    "    \\end{bmatrix}\\alpha$$"
   ]
  },
  {
   "cell_type": "code",
   "execution_count": 5,
   "id": "2efe6e9b-7e1e-4151-bb4f-997d45fd2624",
   "metadata": {},
   "outputs": [
    {
     "name": "stdout",
     "output_type": "stream",
     "text": [
      "Estimated Weight: [1.70809367 0.69933541]\n",
      "Estimated Bias: -0.48690356626347364\n",
      "RMSE Train:  6.796740626524965\n",
      "RMSE of Linear Regression Gradient Descent:  6.846577805955783\n",
      "CPU times: user 3.33 s, sys: 221 ms, total: 3.55 s\n",
      "Wall time: 540 ms\n"
     ]
    }
   ],
   "source": [
    "%%time\n",
    "\n",
    "estimated_weight, estimated_bias = gradient_descent_linear(X_train, y_train, iterations=2000, learning_rate=1e-4)\n",
    "print(f\"Estimated Weight: {estimated_weight}\\nEstimated Bias: {estimated_bias}\")\n",
    "preds_linear = lin_predict( X_test,  estimated_weight, estimated_bias)\n",
    "preds_train = lin_predict(X_train, estimated_weight, estimated_bias)\n",
    "print(\"RMSE Train: \", RMSE(preds_train, y_train))\n",
    "print(\"RMSE of Linear Regression Gradient Descent: \",RMSE(preds_linear, y_test))"
   ]
  },
  {
   "cell_type": "markdown",
   "id": "0d178238-9602-4197-93bc-0afb473c7d7f",
   "metadata": {},
   "source": [
    "\n",
    "## Polynomial Regression\n",
    "$$\\hat{y} = \\beta + \\theta_0 X_0^{\\text{a}_0} + \\theta_1 X_1^{\\text{a}_1} + \\cdots + \\theta_n X_n^{\\text{a}_n}$$\n",
    "\n",
    "\n",
    "$$n\\::number\\:of\\:features$$\n",
    "\n",
    "$$x\\::value\\:of\\:the\\:specific\\:feature$$\n",
    "\n",
    "$$\\beta\\: bias$$\n",
    "\n",
    "$$\\theta\\::weight$$\n",
    "\n",
    "$$a\\::order$$\n",
    "\n",
    "$$\\hat{y}\\::\\:predicted\\:value$$\n",
    "### Finding Rate of Change for Gradient Descent\n",
    "#### Rate of Change on Bias\n",
    "$$\\frac{\\partial E}{\\partial \\beta} = \\frac{2}{m} \\sum_{{i=1}}^{m}{(\\hat{y}_i-y_i)}$$\n",
    "#### Rate of Change on Weights\n",
    "$$\\begin{bmatrix} \\frac{\\partial{E}}{\\partial{\\theta_1}} \\\\ \n",
    "    \\frac{\\partial{E}}{\\partial{\\theta_2}} \\\\ \n",
    "    \\vdots \\\\\n",
    "    \\frac{\\partial{E}}{\\partial{\\theta_n}}  \n",
    "    \\end{bmatrix} = \n",
    "    \\frac{2}{m} \n",
    "    \\begin{bmatrix} \\sum_{{i=1}}^{m}{(\\hat{y}_i-y_i)(x_{1i})} \\\\ \n",
    "    \\sum_{{i=1}}^{m}{(\\hat{y}_i-y_i)(x_{2i})}  \\\\ \n",
    "    \\vdots \\\\\n",
    "    \\sum_{{i=1}}^{m}{(\\hat{y}_i-y_i)(x_{ni})}  \\end{bmatrix}$$\n",
    "#### Rate of Change on Orders\n",
    "$$\\begin{bmatrix} \\frac{\\partial{E}}{\\partial{a_1}} \\\\ \n",
    "    \\frac{\\partial{E}}{\\partial{a_2}} \\\\ \n",
    "    \\vdots \\\\\n",
    "    \\frac{\\partial{E}}{\\partial{a_n}}  \n",
    "    \\end{bmatrix} = \n",
    "    \\frac{2}{m} \n",
    "    \\begin{bmatrix}\\theta_1\\sum_{{i=1}}^{m}{(\\hat{y}_i-y_i)({x^{a_1}_{1i}})ln(x_{1i})} \\\\ \n",
    "    \\theta_2\\sum_{{i=1}}^{m}{(\\hat{y}_i-y_i)({x^{a_2}_{2i}})ln(x_{2i})}  \\\\ \n",
    "    \\vdots \\\\\n",
    "    \\theta_n\\sum_{{i=1}}^{m}{(\\hat{y}_i-y_i)({x^{a_n}_{ni}})ln(x_{ni})}  \\end{bmatrix}$$\n",
    "### Updating the Values\n",
    "#### Updating the Bias\n",
    "$$\\beta' = \\beta - \\frac{\\partial E}{\\partial \\beta}\\alpha$$\n",
    "#### Updating the Weights\n",
    "$$\\begin{bmatrix} \\theta_1' \\\\ \n",
    "    \\theta_2' \\\\ \n",
    "    \\vdots \\\\\n",
    "    \\theta_n'\n",
    "    \\end{bmatrix} = \n",
    "    \\begin{bmatrix} \\theta_1 \\\\ \n",
    "    \\theta_2 \\\\ \n",
    "    \\vdots \\\\\n",
    "    \\theta_n\n",
    "    \\end{bmatrix} - \n",
    "    \\begin{bmatrix} \\frac{\\partial{E}}{\\partial{\\theta_1}} \\\\ \n",
    "    \\frac{\\partial{E}}{\\partial{\\theta_2}} \\\\ \n",
    "    \\vdots \\\\\n",
    "    \\frac{\\partial{E}}{\\partial{\\theta_n}}  \n",
    "    \\end{bmatrix}\\alpha$$\n",
    "#### Updating the Orders\n",
    "$$\\begin{bmatrix}a_1' \\\\ \n",
    "    a_2' \\\\ \n",
    "    \\vdots \\\\\n",
    "    a_n'  \n",
    "    \\end{bmatrix} = \n",
    "    \\begin{bmatrix}a_1 \\\\ \n",
    "    a_2 \\\\ \n",
    "    \\vdots \\\\\n",
    "    a_n  \n",
    "    \\end{bmatrix} - \n",
    "    \\begin{bmatrix} \\frac{\\partial{E}}{\\partial{a_1}} \\\\ \n",
    "    \\frac{\\partial{E}}{\\partial{a_2}} \\\\ \n",
    "    \\vdots \\\\\n",
    "    \\frac{\\partial{E}}{\\partial{a_n}}  \n",
    "    \\end{bmatrix}\\alpha$$\n",
    "\n"
   ]
  },
  {
   "cell_type": "code",
   "execution_count": 6,
   "id": "508a9d2e-2311-4519-a667-f7106eafc6a8",
   "metadata": {},
   "outputs": [
    {
     "name": "stdout",
     "output_type": "stream",
     "text": [
      "Estimated Weight: [0.5272984  0.08493531]\n",
      "Estimated Order: [1.662774  1.4826695]\n",
      "Estimated Bias: -0.00024033920610194357\n",
      "\n",
      "RMSE Train:  2.9526720557687276\n",
      "RMSE of Polynomial Regression Gradient Descent:  2.9549370713151357\n",
      "CPU times: user 11.8 s, sys: 2.11 s, total: 13.9 s\n",
      "Wall time: 1.96 s\n"
     ]
    }
   ],
   "source": [
    "%%time\n",
    "estimated_weight, estimated_order, estimated_bias = gradient_descent_poly(X_train, y_train, iterations=2000, learning_rate=1e-5)\n",
    "print(f\"Estimated Weight: {estimated_weight}\\nEstimated Order: {estimated_order}\\nEstimated Bias: {estimated_bias}\\n\")\n",
    "preds_poly = poly_predict(X_test, estimated_weight, estimated_order, estimated_bias)\n",
    "preds_train_poly = poly_predict(X_train, estimated_weight, estimated_order, estimated_bias)\n",
    "print(\"RMSE Train: \", RMSE(preds_train_poly, y_train))\n",
    "print(\"RMSE of Polynomial Regression Gradient Descent: \", RMSE(preds_poly, y_test))"
   ]
  },
  {
   "cell_type": "code",
   "execution_count": 7,
   "id": "880842b1-a7cc-4ed2-9ce7-9ba0e34723ad",
   "metadata": {},
   "outputs": [
    {
     "name": "stdout",
     "output_type": "stream",
     "text": [
      "[61.28354587 72.7018456  34.31888763 ... 48.45403931 34.08995449\n",
      " 35.09871276]\n"
     ]
    }
   ],
   "source": [
    "print(preds_linear)"
   ]
  },
  {
   "cell_type": "code",
   "execution_count": 8,
   "id": "f9662d2e-1a75-4d5a-8327-403572a2b965",
   "metadata": {},
   "outputs": [
    {
     "name": "stdout",
     "output_type": "stream",
     "text": [
      "[60.6535857  77.45236584 25.44242814 ... 46.77101026 26.12804925\n",
      " 26.46685735]\n"
     ]
    }
   ],
   "source": [
    "print(preds_poly)"
   ]
  },
  {
   "cell_type": "code",
   "execution_count": 9,
   "id": "8c08450a-456a-4cbe-a713-99d8fe260ab3",
   "metadata": {},
   "outputs": [
    {
     "name": "stdout",
     "output_type": "stream",
     "text": [
      "[63. 78. 20. ... 44. 20. 24.]\n"
     ]
    }
   ],
   "source": [
    "print(y_test)"
   ]
  },
  {
   "cell_type": "code",
   "execution_count": 10,
   "id": "f0582ef1-70e0-4837-98c8-a1ae9cab792f",
   "metadata": {},
   "outputs": [
    {
     "data": {
      "text/plain": [
       "8.461415164735664"
      ]
     },
     "execution_count": 10,
     "metadata": {},
     "output_type": "execute_result"
    }
   ],
   "source": [
    "lin_predict(np.array([X_test[0][0], X_test[0][1]]), estimated_weight, estimated_bias)"
   ]
  },
  {
   "cell_type": "markdown",
   "id": "2966c6b2-4024-4f3e-a25e-71039b19b8de",
   "metadata": {},
   "source": [
    "Testing Results: https://docs.google.com/spreadsheets/d/1lgyG5CXDPKZvaLBJNGuDJCP-sHzAgemR62PiendEqC8/edit?usp=sharing"
   ]
  },
  {
   "cell_type": "code",
   "execution_count": 11,
   "id": "eac833c4-c2b2-460b-82ef-df88a91c24bc",
   "metadata": {},
   "outputs": [
    {
     "data": {
      "text/plain": [
       "array([ 3., 81.])"
      ]
     },
     "execution_count": 11,
     "metadata": {},
     "output_type": "execute_result"
    }
   ],
   "source": [
    "X_test[0]"
   ]
  },
  {
   "cell_type": "markdown",
   "id": "773208c4-7ca9-4244-88a0-3a900d149a05",
   "metadata": {},
   "source": [
    "## From the training process we have...\n",
    "### Best model for linear regression for this dataset:\n",
    "$$\\hat{y} = -0.48690356626347364\\; + \\;1.70809367\\,Hours\\,Studied\\; + \\;0.69933541\\,Previous\\,Scores$$\n",
    "### Best model for polynomial regression for this dataset\n",
    "$$\\hat{y} = -0.00024033920610194357\\; + \\;0.5272984\\,Hours\\,Studied^{1.662774}\\; + \\;0.08493531\\,Previous\\,Scores^{1.4826695}$$\n",
    "\n",
    "\n",
    "<br><br><br>\n",
    "© Louis Widi Anandaputra - 2024"
   ]
  }
 ],
 "metadata": {
  "kernelspec": {
   "display_name": "Python 3 (ipykernel)",
   "language": "python",
   "name": "python3"
  },
  "language_info": {
   "codemirror_mode": {
    "name": "ipython",
    "version": 3
   },
   "file_extension": ".py",
   "mimetype": "text/x-python",
   "name": "python",
   "nbconvert_exporter": "python",
   "pygments_lexer": "ipython3",
   "version": "3.10.13"
  }
 },
 "nbformat": 4,
 "nbformat_minor": 5
}
